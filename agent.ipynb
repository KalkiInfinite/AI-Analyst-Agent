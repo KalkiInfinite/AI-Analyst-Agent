{
 "cells": [
  {
   "cell_type": "code",
   "execution_count": null,
   "id": "51edbfa6",
   "metadata": {
    "vscode": {
     "languageId": "plaintext"
    }
   },
   "outputs": [],
   "source": [
    "from utils.file_parser import parse_file\n",
    "from utils.chat_agent import chat_with_agent\n",
    "\n",
    "with open(\"sample_data.csv\", \"rb\") as f:\n",
    "    df, text = parse_file(f, \"sample_data.csv\")\n",
    "\n",
    "response = chat_with_agent(\"Summarize this data\", df, text)\n",
    "print(response)\n"
   ]
  }
 ],
 "metadata": {
  "language_info": {
   "name": "python"
  }
 },
 "nbformat": 4,
 "nbformat_minor": 5
}
